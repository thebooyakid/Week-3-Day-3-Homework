{
 "cells": [
  {
   "cell_type": "markdown",
   "metadata": {},
   "source": [
    "# Algorithms, Binary Search & Linked Lists"
   ]
  },
  {
   "cell_type": "markdown",
   "metadata": {},
   "source": [
    "## Tasks Today:\n",
    " \n",
    "1) <b>In-Place Algorithms</b> <br>\n",
    " &nbsp;&nbsp;&nbsp;&nbsp; a) Syntax <br>\n",
    " &nbsp;&nbsp;&nbsp;&nbsp; a) Out of Place Algorithm <br>\n",
    " &nbsp;&nbsp;&nbsp;&nbsp; b) In-Class Exercise #1 <br>\n",
    "2) <b>Two Pointers</b> <br>\n",
    "3) <b>Linked Lists</b> <br>\n",
    "4) <b>Merge Sort</b> <br>\n",
    " &nbsp;&nbsp;&nbsp;&nbsp; a) Video on Algorithms <br>\n",
    " &nbsp;&nbsp;&nbsp;&nbsp; b) How it Works <br>\n",
    "5) <b>Exercises</b> <br>\n",
    " &nbsp;&nbsp;&nbsp;&nbsp; a) Exercise #1 - Reverse a List in Place Using an In-Place Algorithm <br>\n",
    " &nbsp;&nbsp;&nbsp;&nbsp; b) Exercise #2 - Find Distinct Words <br>\n",
    " &nbsp;&nbsp;&nbsp;&nbsp; c) Exercise #3 - Write a program to implement a Linear Search Algorithm. <br>"
   ]
  },
  {
   "cell_type": "markdown",
   "metadata": {},
   "source": [
    "## In-Place Algorithms"
   ]
  },
  {
   "cell_type": "markdown",
   "metadata": {},
   "source": [
    "#### Syntax"
   ]
  },
  {
   "cell_type": "code",
   "execution_count": 32,
   "metadata": {},
   "outputs": [
    {
     "name": "stdout",
     "output_type": "stream",
     "text": [
      "Before swap: ['beans', 4, 10]\n",
      "After swap: [10, 4, 'beans']\n"
     ]
    }
   ],
   "source": [
    "#var[1],var[i+1] = var[i+1],var[i]\n",
    "#swap algorithm\n",
    "\n",
    "def swap(alist,x,y,z):\n",
    "    alist[x],alist[y],alist[z] = alist[z], alist[y],alist[x]\n",
    "    return alist\n",
    "my_list = ['beans',4,10]\n",
    "print(f\"Before swap: {my_list}\")\n",
    "swap(my_list,0,1,2)\n",
    "print(f\"After swap: {my_list}\")"
   ]
  },
  {
   "cell_type": "markdown",
   "metadata": {},
   "source": [
    "#### Out of Place Algorithm"
   ]
  },
  {
   "cell_type": "code",
   "execution_count": 33,
   "metadata": {},
   "outputs": [
    {
     "name": "stdout",
     "output_type": "stream",
     "text": [
      "[10, 4, 'beans']\n",
      "['beans', 4, 10]\n",
      "Before ['a', 'b', 'c', 'd']\n",
      "After ['d', 'c', 'b', 'a']\n"
     ]
    }
   ],
   "source": [
    "#not swapping, but reversing completely\n",
    "#but it also copies to another place in memory\n",
    "print(my_list)\n",
    "my_list_copy = my_list[::-1]\n",
    "print(my_list_copy)\n",
    "\n",
    "array = ['a','b','c','d']\n",
    "new_array = ['a'] * len(array)\n",
    "print('Before',array)\n",
    "\n",
    "length = len(array) - 1\n",
    "\n",
    "for i in range(length):\n",
    "    new_array[i] = array[length - i]\n",
    "array = new_array\n",
    "print('After',array)"
   ]
  },
  {
   "cell_type": "markdown",
   "metadata": {},
   "source": [
    "#### In-Class Exercise #1 <br>\n",
    "<p>Write a function that takes in four arguments (list, index1, index2, index3), and swaps those three positions in the list passed in.</p>"
   ]
  },
  {
   "cell_type": "code",
   "execution_count": 41,
   "metadata": {},
   "outputs": [
    {
     "data": {
      "text/plain": [
       "[4, 3, 2, 1, 5, 6]"
      ]
     },
     "execution_count": 41,
     "metadata": {},
     "output_type": "execute_result"
    }
   ],
   "source": [
    "l_1 = [10, 4, 3, 8, 4, 2, 6]\n",
    "def swapper(list1,a,b,c,d):\n",
    "    list1[a],list1[b],list1[c],list1[d] = list1[d],list1[c],list1[b],list1[a]\n",
    "    return list1\n",
    "\n",
    "listo = [1,2,3,4,5,6]\n",
    "swapper(listo,0,1,2,3)"
   ]
  },
  {
   "cell_type": "markdown",
   "metadata": {},
   "source": [
    "## Two Pointers"
   ]
  },
  {
   "cell_type": "markdown",
   "metadata": {},
   "source": [
    "#### Syntax"
   ]
  },
  {
   "cell_type": "code",
   "execution_count": 47,
   "metadata": {},
   "outputs": [
    {
     "data": {
      "text/plain": [
       "[20, 48, 33, 22, 7, 6, 5, 2, 1]"
      ]
     },
     "execution_count": 47,
     "metadata": {},
     "output_type": "execute_result"
    }
   ],
   "source": [
    "#alist[left],alist[right] = alist[right],alist[left]\n",
    "# use 2 pointers to swap, and can usually use while loop\n",
    "def twoPointers(alist):\n",
    "    #create pointers\n",
    "    left = 0\n",
    "    right = len(alist)-1\n",
    "    while left <= right:\n",
    "        alist[left], alist[right] = alist[right], alist[left]\n",
    "        left += 1\n",
    "        right -= 1\n",
    "    return alist\n",
    "\n",
    "my_other_list = [1,2,5,6,7,22,33,48,20]\n",
    "twoPointers(my_other_list)"
   ]
  },
  {
   "cell_type": "markdown",
   "metadata": {},
   "source": [
    "#### Video of Algorithms <br>\n",
    "<p>Watch the video about algorithms.</p>\n",
    "\n",
    "https://www.youtube.com/watch?v=Q9HjeFD62Uk\n",
    "\n",
    "https://www.youtube.com/watch?v=kPRA0W1kECg\n",
    "\n",
    "https://www.youtube.com/watch?v=ZZuD6iUe3Pc"
   ]
  },
  {
   "cell_type": "markdown",
   "metadata": {},
   "source": [
    "# Sorting Algorithms"
   ]
  },
  {
   "cell_type": "markdown",
   "metadata": {},
   "source": [
    "#### Bubble Sort\n",
    "\n",
    "Worst Case: O(n^2) Time - O(1) Space"
   ]
  },
  {
   "cell_type": "code",
   "execution_count": 49,
   "metadata": {},
   "outputs": [
    {
     "data": {
      "text/plain": [
       "[1, 22, 34, 44, 55, 66, 88, 100]"
      ]
     },
     "execution_count": 49,
     "metadata": {},
     "output_type": "execute_result"
    }
   ],
   "source": [
    "#Best case: 0(n) - Linear time complexity\n",
    "def swap(i,j,array):\n",
    "    array[i],array[j] = array[j], array[i]\n",
    "\n",
    "def bubbleSort(array):\n",
    "    isSorted = False\n",
    "    while not isSorted:\n",
    "        isSorted = True\n",
    "        for num in range(len(array) - 1):\n",
    "            if array[num] > array[num + 1]:\n",
    "                swap(num,num+1,array)\n",
    "                isSorted = False\n",
    "    return array\n",
    "\n",
    "bubbleSort([22,55,88,44,1,100,34,66])\n",
    "        "
   ]
  },
  {
   "cell_type": "markdown",
   "metadata": {},
   "source": [
    "##### Insertion Sort\n",
    "\n",
    "Worst Case: O(n^2) time - O(1)space"
   ]
  },
  {
   "cell_type": "code",
   "execution_count": 51,
   "metadata": {},
   "outputs": [
    {
     "data": {
      "text/plain": [
       "[1, 22, 34, 44, 55, 66, 88, 100]"
      ]
     },
     "execution_count": 51,
     "metadata": {},
     "output_type": "execute_result"
    }
   ],
   "source": [
    "def swap(i,j,array):\n",
    "    array[i],array[j] = array[j], array[i]\n",
    "    \n",
    "def insertionSort(array):\n",
    "    for i in range(1,len(array)):\n",
    "        j = i\n",
    "        while j > 0 and array[j] < array[j-1]:\n",
    "            swap(j, j-1, array)\n",
    "            j-=1\n",
    "    return array\n",
    "insertionSort([22,55,88,44,1,100,34,66])"
   ]
  },
  {
   "cell_type": "markdown",
   "metadata": {},
   "source": [
    "## Merge Sort"
   ]
  },
  {
   "cell_type": "markdown",
   "metadata": {},
   "source": [
    "#### How it Works"
   ]
  },
  {
   "cell_type": "code",
   "execution_count": 56,
   "metadata": {
    "scrolled": true
   },
   "outputs": [
    {
     "name": "stdout",
     "output_type": "stream",
     "text": [
      "Splitting... [13, 14, 12, 4, 1]\n",
      "Splitting... [13, 14]\n",
      "Splitting... [13]\n",
      "Merging:  [13]\n",
      "Splitting... [14]\n",
      "Merging:  [14]\n",
      "Merging:  [13, 14]\n",
      "Splitting... [12, 4, 1]\n",
      "Splitting... [12]\n",
      "Merging:  [12]\n",
      "Splitting... [4, 1]\n",
      "Splitting... [4]\n",
      "Merging:  [4]\n",
      "Splitting... [1]\n",
      "Merging:  [1]\n",
      "Merging:  [1, 4]\n",
      "Merging:  [1, 4, 12]\n",
      "Merging:  [1, 4, 12, 13, 14]\n"
     ]
    },
    {
     "data": {
      "text/plain": [
       "[1, 4, 12, 13, 14]"
      ]
     },
     "execution_count": 56,
     "metadata": {},
     "output_type": "execute_result"
    }
   ],
   "source": [
    "# 1: split everything into it's own group\n",
    "# 2: from left to right, merge the 2 groups together\n",
    "# 3: while merging, place each item in the correct position\n",
    "# 4: continue steps 3 and 4 until one group is left\n",
    "from random import randint\n",
    "#use this to generate a random list from 0-20 (in this example)\n",
    "nums = [randint(0,20) for i in range(5)]\n",
    "def mergeSort(alist):\n",
    "    print(\"Splitting...\",alist)\n",
    "#Step 1 - divide array into equal parts\n",
    "    if len(alist) > 1:\n",
    "        mid = len(alist)//2\n",
    "        leftHalf = alist[:mid]\n",
    "        rightHalf = alist[mid:]\n",
    "# recursively call mergeSort to perform more splits\n",
    "# then merge once splits are done\n",
    "        mergeSort(leftHalf)\n",
    "        mergeSort(rightHalf)\n",
    "    \n",
    "# index pointers for our list\n",
    "        i = 0 #pointer for left\n",
    "        j = 0 #pointer for right\n",
    "        k = 0 #pointer for main array\n",
    "    \n",
    "#Step 2 - compare leftHalf and rightHalf\n",
    "        while i < len(leftHalf) and j < len(rightHalf):\n",
    "            if leftHalf[i] < rightHalf[j]:\n",
    "                alist[k] = leftHalf[i]\n",
    "                i = i+1\n",
    "            else:\n",
    "                alist[k] = rightHalf[j]\n",
    "                j = j+1\n",
    "            k = k+1\n",
    "#Step 3 - while merging place items in the correct position\n",
    "        while i < len(leftHalf):\n",
    "            alist[k] = leftHalf[i]\n",
    "            i = i+1\n",
    "            k = k+1\n",
    "        while j < len(rightHalf):\n",
    "            alist[k] = rightHalf[j]\n",
    "            j = j+1\n",
    "            k = k+1\n",
    "    print(\"Merging: \", alist)\n",
    "    return alist\n",
    "mergeSort(nums)\n"
   ]
  },
  {
   "cell_type": "markdown",
   "metadata": {},
   "source": [
    "# Binary Search\n",
    "\n",
    "The Binary Search algorithm works by finding the number in the middle of a given array and comparing it to the target. Given that the array is sorted\n",
    "\n",
    "* The worst case run time for this algorithm is `O(log(n))`"
   ]
  },
  {
   "cell_type": "code",
   "execution_count": 58,
   "metadata": {},
   "outputs": [
    {
     "data": {
      "text/plain": [
       "'The index is...4'"
      ]
     },
     "execution_count": 58,
     "metadata": {},
     "output_type": "execute_result"
    }
   ],
   "source": [
    "# Less == Left\n",
    "# Greater == Right\n",
    "# List of numbers must be sorted\n",
    "def binarySearchHelperFunction(array, target, left, right):\n",
    "    while left <= right:\n",
    "        middle = (left + right)//2\n",
    "        potentialMatch = array[middle]\n",
    "        if target == potentialMatch:\n",
    "            return f\"The index is...{middle}\"\n",
    "        elif target < potentialMatch:\n",
    "            right = middle - 1\n",
    "        else:\n",
    "            left = middle + 1\n",
    "    return -1\n",
    "\n",
    "def binarySearch(array,target):\n",
    "    return binarySearchHelperFunction(array,target,0,len(array)-1)\n",
    "\n",
    "binarySearch([22,44,55,66,88,100],88)"
   ]
  },
  {
   "cell_type": "markdown",
   "metadata": {},
   "source": [
    "# Exercises"
   ]
  },
  {
   "cell_type": "markdown",
   "metadata": {},
   "source": [
    "### Exercise #1 <br>\n",
    "<p>Reverse the list below in-place using an in-place algorithm.<br>For extra credit: Reverse the strings at the same time.</p>"
   ]
  },
  {
   "cell_type": "code",
   "execution_count": 75,
   "metadata": {},
   "outputs": [
    {
     "name": "stdout",
     "output_type": "stream",
     "text": [
      "['.', 'ecnetnes', 'a', 'si', 'siht']\n"
     ]
    }
   ],
   "source": [
    "words = ['this' , 'is', 'a', 'sentence', '.']\n",
    "def reverseWords(text,a,b,c,d,e):\n",
    "    text[a],text[b],text[c],text[d],text[e] = text[e][::-1],text[d][::-1],text[c][::-1],text[b][::-1],text[a][::-1]\n",
    "    words[::-1]\n",
    "    return text\n",
    "    \n",
    "print(reverseWords(words,0,1,2,3,4))"
   ]
  },
  {
   "cell_type": "markdown",
   "metadata": {},
   "source": [
    "### Exercise #2 <br>\n",
    "<p>Create a function that counts how many distinct words are in the string below, then outputs a dictionary with the words as the key and the value as the amount of times that word appears in the string.<br>Should output:<br>{'a': 5,<br>\n",
    " 'abstract': 1,<br>\n",
    " 'an': 3,<br>\n",
    " 'array': 2, ... etc...</p>"
   ]
  },
  {
   "cell_type": "code",
   "execution_count": 163,
   "metadata": {},
   "outputs": [
    {
     "name": "stdout",
     "output_type": "stream",
     "text": [
      "There are 🔥53🔥 distinct words in the string\n",
      "a: 5\n",
      "abstract: 1\n",
      "an: 3\n",
      "array: 2\n",
      "associative: 1\n",
      "be: 1\n",
      "buckets: 1\n",
      "can: 2\n",
      "compute: 1\n",
      "computing,: 1\n",
      "data: 2\n",
      "desired: 1\n",
      "found: 1\n",
      "from: 1\n",
      "function: 1\n",
      "hash: 4\n",
      "implements: 1\n",
      "in: 1\n",
      "index: 1\n",
      "into: 1\n",
      "is: 1\n",
      "keys: 1\n",
      "map: 2\n",
      "of: 1\n",
      "or: 1\n",
      "slots: 1\n",
      "structure: 2\n",
      "table: 2\n",
      "that: 1\n",
      "the: 1\n",
      "to: 2\n",
      "type,: 1\n",
      "uses: 1\n",
      "value: 1\n",
      "values.: 1\n",
      "which: 2\n"
     ]
    }
   ],
   "source": [
    "a_text = 'In computing, a hash table hash map is a data structure which implements an associative array abstract data type, a structure that can map keys to values. A hash table uses a hash function to compute an index into an array of buckets or slots from which the desired value can be found'\n",
    "a_text1 = a_text.lower()\n",
    "x = len(a_text1.split())\n",
    "print(f\"There are \\U0001f525{x}\\U0001f525 distinct words in the string\")\n",
    "\n",
    "dict = {}\n",
    "for i in a_text1.split():\n",
    "    dict[i] = dict.get(i,0)+1\n",
    "    dictSort = {key: value for key, value in sorted(dict.items())}\n",
    "  \n",
    "for k,v in dictSort.items():\n",
    "    print(f\"{k}: {v}\")"
   ]
  },
  {
   "cell_type": "markdown",
   "metadata": {},
   "source": [
    "## Exercise #3\n",
    "\n",
    "Write a program to implement a Linear Search Algorithm. Also in a comment, write the Time Complexity of the following algorithm.\n",
    "\n",
    "#### Hint: Linear Searching will require searching a list for a given number. "
   ]
  },
  {
   "cell_type": "code",
   "execution_count": 168,
   "metadata": {},
   "outputs": [
    {
     "name": "stdout",
     "output_type": "stream",
     "text": [
      "The target is at index 🔥4🔥\n",
      "\n",
      "The time complexity of this algorithm is 0(n), which makes it fairly complex\n"
     ]
    }
   ],
   "source": [
    "def linSearch(array,target):\n",
    "        for i in range(len(array)):\n",
    "            if array[i] == target:\n",
    "                print(f\"The target is at index \\U0001f525{i}\\U0001f525\")\n",
    "                return i\n",
    "        return -1\n",
    "\n",
    "linSearch([1,2,3,4,5,6,7,8,9],5)\n",
    "print(\"\\n\"r\"The time complexity of this algorithm is 0(n), which makes it fairly complex\")"
   ]
  }
 ],
 "metadata": {
  "kernelspec": {
   "display_name": "Python 3",
   "language": "python",
   "name": "python3"
  },
  "language_info": {
   "codemirror_mode": {
    "name": "ipython",
    "version": 3
   },
   "file_extension": ".py",
   "mimetype": "text/x-python",
   "name": "python",
   "nbconvert_exporter": "python",
   "pygments_lexer": "ipython3",
   "version": "3.8.5"
  }
 },
 "nbformat": 4,
 "nbformat_minor": 2
}
